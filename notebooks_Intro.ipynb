{
  "cells": [
    {
      "cell_type": "markdown",
      "id": "4f6b965c-5dd9-4646-9bda-c11945c0cb39",
      "metadata": {},
      "source": [
        "# CLOUD SHELL COMMANDS\n",
        "\n",
        "## SET APIS"
      ]
    },
    {
      "cell_type": "markdown",
      "id": "d7f87a0a-174b-4429-80b7-7178d1a05782",
      "metadata": {},
      "source": [
        "    gcloud services enable compute.googleapis.com         \\\n",
        "                           containerregistry.googleapis.com  \\\n",
        "                           aiplatform.googleapis.com"
      ]
    },
    {
      "cell_type": "markdown",
      "id": "dd38d8c0-2dd5-457f-a76b-edbf3aa9c077",
      "metadata": {},
      "source": [
        "## CREATE BUCKETS\n",
        "\n",
        "    BUCKET_NAME=gs://$GOOGLE_CLOUD_PROJECT-bucket\n",
        "    gsutil mb -l us-central1 $BUCKET_NAME"
      ]
    },
    {
      "cell_type": "markdown",
      "id": "a1429f28-da92-4519-a677-502811caf634",
      "metadata": {},
      "source": [
        "## SERVICE ACCOUNT\n",
        "\n",
        "    gcloud projects describe $GOOGLE_CLOUD_PROJECT > project-info.txt\n",
        "    PROJECT_NUM=$(cat project-info.txt | sed -nre 's:.*projectNumber\\: (.*):\\1:p')\n",
        "    SVC_ACCOUNT=\"${PROJECT_NUM//\\'/}-compute@developer.gserviceaccount.com\"\n",
        "    gcloud projects add-iam-policy-binding $GOOGLE_CLOUD_PROJECT --member serviceAccount:$SVC_ACCOUNT --role roles/storage.objectAdmin"
      ]
    },
    {
      "cell_type": "markdown",
      "id": "a03fe7c1-831e-4632-adaf-979d6a712d95",
      "metadata": {},
      "source": [
        "# Vertex AI PIPELINE NOTEBOOK"
      ]
    },
    {
      "cell_type": "code",
      "execution_count": 1,
      "id": "5651e8dc-cb75-4368-9f7b-c01b7c2b5bc8",
      "metadata": {
        "trusted": true
      },
      "outputs": [],
      "source": [
        "USER_FLAG = \"--user\""
      ]
    },
    {
      "cell_type": "code",
      "execution_count": null,
      "id": "8dbcb5a2-f41c-4805-a6ac-40a4fd15d306",
      "metadata": {},
      "outputs": [],
      "source": [
        "!pip3 install {USER_FLAG} google-cloud-aiplatform==1.7.0\n",
        "!pip3 install {USER_FLAG} kfp==1.8.9"
      ]
    },
    {
      "cell_type": "code",
      "execution_count": null,
      "id": "16982fa8-9346-4670-8028-c597660e05d5",
      "metadata": {},
      "outputs": [],
      "source": [
        "import os\n",
        "\n",
        "if not os.getenv(\"IS_TESTING\"):\n",
        "    # Automatically restart kernel after installs\n",
        "    import IPython\n",
        "\n",
        "    app = IPython.Application.instance()\n",
        "    app.kernel.do_shutdown(True)"
      ]
    },
    {
      "cell_type": "code",
      "execution_count": null,
      "id": "be3f92a9-f27b-48a9-94c9-3bf34d9db7a2",
      "metadata": {},
      "outputs": [],
      "source": [
        "if PROJECT_ID == \"\" or PROJECT_ID is None:\n",
        "    PROJECT_ID = \"your-project-id\"  # @param {type:\"string\"}"
      ]
    },
    {
      "cell_type": "code",
      "execution_count": null,
      "id": "1b170d4f-51d4-416d-9858-a99011477d48",
      "metadata": {},
      "outputs": [],
      "source": [
        "BUCKET_NAME=\"gs://\" + PROJECT_ID + \"-bucket\""
      ]
    },
    {
      "cell_type": "code",
      "execution_count": null,
      "id": "7573309f-28d2-4d28-8bc6-0d47eea105f3",
      "metadata": {},
      "outputs": [],
      "source": [
        "import matplotlib.pyplot as plt\n",
        "import pandas as pd\n",
        "\n",
        "from kfp.v2 import compiler, dsl\n",
        "from kfp.v2.dsl import pipeline, component, Artifact, Dataset, Input, Metrics, Model, Output, InputPath, OutputPath\n",
        "\n",
        "from google.cloud import aiplatform\n",
        "\n",
        "# We'll use this namespace for metadata querying\n",
        "from google.cloud import aiplatform_v1"
      ]
    },
    {
      "cell_type": "code",
      "execution_count": null,
      "id": "903422f9-85b7-48e5-9d25-25ce89c04ed3",
      "metadata": {},
      "outputs": [],
      "source": [
        "PATH=%env PATH\n",
        "%env PATH={PATH}:/home/jupyter/.local/bin\n",
        "REGION=\"us-central1\"\n",
        "\n",
        "PIPELINE_ROOT = f\"{BUCKET_NAME}/pipeline_root/\"\n",
        "PIPELINE_ROOT"
      ]
    },
    {
      "cell_type": "code",
      "execution_count": null,
      "id": "7c650f47-7be7-412e-90ad-a4aafc1c039d",
      "metadata": {},
      "outputs": [],
      "source": [
        "@component(\n",
        "    packages_to_install=[\"google-cloud-bigquery\", \"pandas\", \"pyarrow\", \"db-dtypes\"],\n",
        "    base_image=\"python:3.9\",\n",
        "    output_component_file=\"create_dataset.yaml\"\n",
        ")\n",
        "def get_dataframe(\n",
        "    bq_table: str,\n",
        "    output_data_path: OutputPath(\"Dataset\")\n",
        "):\n",
        "    from google.cloud import bigquery\n",
        "    import pandas as pd\n",
        "    import os\n",
        "\n",
        "    project_number = os.environ[\"CLOUD_ML_PROJECT_ID\"]\n",
        "    bqclient = bigquery.Client(project=project_number)\n",
        "    table = bigquery.TableReference.from_string(\n",
        "        bq_table\n",
        "    )\n",
        "    rows = bqclient.list_rows(\n",
        "        table\n",
        "    )\n",
        "    dataframe = rows.to_dataframe(\n",
        "        create_bqstorage_client=True,\n",
        "    )\n",
        "    dataframe = dataframe.sample(frac=1, random_state=2)\n",
        "    dataframe.to_csv(output_data_path)"
      ]
    },
    {
      "cell_type": "code",
      "execution_count": null,
      "id": "38815904-8e98-4e1b-8388-539e4793aece",
      "metadata": {},
      "outputs": [],
      "source": [
        "@component(\n",
        "    packages_to_install=[\"sckit-learn\", \"pandas\", \"joblib\", \"db-dtypes\"], # sklearn if you want the logging error!\n",
        "    base_image=\"python:3.9\",\n",
        "    output_component_file=\"beans_model_component.yaml\",\n",
        ")\n",
        "def sklearn_train(\n",
        "    dataset: Input[Dataset],\n",
        "    metrics: Output[Metrics],\n",
        "    model: Output[Model]\n",
        "):\n",
        "    from sklearn.tree import DecisionTreeClassifier\n",
        "    from sklearn.metrics import roc_curve\n",
        "    from sklearn.model_selection import train_test_split\n",
        "    from joblib import dump\n",
        "\n",
        "    import pandas as pd\n",
        "    df = pd.read_csv(dataset.path)\n",
        "    labels = df.pop(\"Class\").tolist()\n",
        "    data = df.values.tolist()\n",
        "    x_train, x_test, y_train, y_test = train_test_split(data, labels)\n",
        "\n",
        "    skmodel = DecisionTreeClassifier()\n",
        "    skmodel.fit(x_train,y_train)\n",
        "    score = skmodel.score(x_test,y_test)\n",
        "    print('accuracy is:',score)\n",
        "\n",
        "    metrics.log_metric(\"accuracy\",(score * 100.0))\n",
        "    metrics.log_metric(\"framework\", \"Scikit Learn\")\n",
        "    metrics.log_metric(\"dataset_size\", len(df))\n",
        "    dump(skmodel, model.path + \".joblib\")"
      ]
    },
    {
      "cell_type": "code",
      "execution_count": null,
      "id": "9df5fa6c-c6c9-4cc0-8d2b-cdeb6f6e3c14",
      "metadata": {},
      "outputs": [],
      "source": [
        "@component(\n",
        "    packages_to_install=[\"google-cloud-aiplatform\"],\n",
        "    base_image=\"python:3.9\",\n",
        "    output_component_file=\"beans_deploy_component.yaml\",\n",
        ")\n",
        "def deploy_model(\n",
        "    model: Input[Model],\n",
        "    project: str,\n",
        "    region: str,\n",
        "    vertex_endpoint: Output[Artifact],\n",
        "    vertex_model: Output[Model]\n",
        "):\n",
        "    from google.cloud import aiplatform\n",
        "\n",
        "    aiplatform.init(project=project, location=region)\n",
        "\n",
        "    deployed_model = aiplatform.Model.upload(\n",
        "        display_name=\"beans-model-pipeline\",\n",
        "        artifact_uri = model.uri.replace(\"model\", \"\"),\n",
        "        serving_container_image_uri=\"us-docker.pkg.dev/vertex-ai/prediction/sklearn-cpu.0-24:latest\"\n",
        "    )\n",
        "    endpoint = deployed_model.deploy(machine_type=\"n1-standard-4\")\n",
        "\n",
        "    # Save data to the output params\n",
        "    vertex_endpoint.uri = endpoint.resource_name\n",
        "    vertex_model.uri = deployed_model.resource_name"
      ]
    },
    {
      "cell_type": "code",
      "execution_count": null,
      "id": "9d2b7484-ec95-4fe2-b0b9-1ee47e9942c9",
      "metadata": {},
      "outputs": [],
      "source": [
        "@pipeline(\n",
        "    # Default pipeline root. You can override it when submitting the pipeline.\n",
        "    pipeline_root=PIPELINE_ROOT,\n",
        "    # A name for the pipeline.\n",
        "    name=\"mlmd-pipeline\",\n",
        ")\n",
        "def pipeline(\n",
        "    bq_table: str = \"\",\n",
        "    output_data_path: str = \"data.csv\",\n",
        "    project: str = PROJECT_ID,\n",
        "    region: str = REGION\n",
        "):\n",
        "    dataset_task = get_dataframe(bq_table)\n",
        "\n",
        "    model_task = sklearn_train(\n",
        "        dataset_task.output\n",
        "    )\n",
        "\n",
        "    deploy_task = deploy_model(\n",
        "        model=model_task.outputs[\"model\"],\n",
        "        project=project,\n",
        "        region=region\n",
        "    )"
      ]
    },
    {
      "cell_type": "code",
      "execution_count": null,
      "id": "03b91c0e-dc54-4e15-8545-6bf511947d67",
      "metadata": {},
      "outputs": [],
      "source": [
        "compiler.Compiler().compile(\n",
        "    pipeline_func=pipeline, package_path=\"mlmd_pipeline.json\"\n",
        ")"
      ]
    },
    {
      "cell_type": "code",
      "execution_count": null,
      "id": "8848a713-b0a2-4a58-bed1-f6b3647a8098",
      "metadata": {},
      "outputs": [],
      "source": [
        "from datetime import datetime\n",
        "\n",
        "TIMESTAMP = datetime.now().strftime(\"%Y%m%d%H%M%S\")"
      ]
    },
    {
      "cell_type": "code",
      "execution_count": null,
      "id": "ee1d4c21-5ccc-430b-a18d-87429ea3a6ac",
      "metadata": {},
      "outputs": [],
      "source": [
        "run1 = aiplatform.PipelineJob(\n",
        "    display_name=\"mlmd-pipeline\",\n",
        "    template_path=\"mlmd_pipeline.json\",\n",
        "    job_id=\"mlmd-pipeline-small-{0}\".format(TIMESTAMP),\n",
        "    parameter_values={\"bq_table\": \"sara-vertex-demos.beans_demo.small_dataset\"},\n",
        "    enable_caching=True,\n",
        ")"
      ]
    },
    {
      "cell_type": "code",
      "execution_count": null,
      "id": "8c820ad1-8c99-466b-b023-06b1d83c3da9",
      "metadata": {},
      "outputs": [],
      "source": [
        "run1.submit()"
      ]
    },
    {
      "cell_type": "code",
      "execution_count": null,
      "id": "bed6d4ba-3ef5-4eeb-aa7a-2ecddcbb61d0",
      "metadata": {},
      "outputs": [],
      "source": []
    },
    {
      "cell_type": "code",
      "execution_count": null,
      "id": "d69b69cf-17b0-43ff-828a-136466ae39d7",
      "metadata": {},
      "outputs": [],
      "source": []
    }
  ],
  "metadata": {
    "kernelspec": {
      "display_name": "Python (Pyodide)",
      "language": "python",
      "name": "python"
    },
    "language_info": {
      "codemirror_mode": {
        "name": "python",
        "version": 3
      },
      "file_extension": ".py",
      "mimetype": "text/x-python",
      "name": "python",
      "nbconvert_exporter": "python",
      "pygments_lexer": "ipython3",
      "version": "3.8"
    }
  },
  "nbformat": 4,
  "nbformat_minor": 5
}
